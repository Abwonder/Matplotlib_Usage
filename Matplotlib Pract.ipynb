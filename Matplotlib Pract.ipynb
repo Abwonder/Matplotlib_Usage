{
 "cells": [
  {
   "cell_type": "markdown",
   "id": "fff81f13",
   "metadata": {},
   "source": [
    "### Matplotlib Assignment "
   ]
  },
  {
   "cell_type": "markdown",
   "id": "b998f214",
   "metadata": {},
   "source": [
    "### Question 1\n",
    "\n",
    "Q1.What is Matplotlib? Why is it used? Name five plots that can be plotted using the Pyplot module of\n",
    "Matplotlib.\n",
    "\n",
    "\n",
    "Matplotlib is a cross-platform, data visualization and graphical plotting library for Python and its numerical extension NumPy, in order words Matplotlib is a comprehensive library for creating static, animated, and interactive visualizations in Python.\n",
    "\n",
    "\n",
    "It is used for generating a variety of plots such as line plots, scatter plots, bar plots, histograms, heatmaps, 3D plots, and many more. Pyplot modle handles the plots, and it is the collection of functions in Matplotlib that provides a simple interface for creating various types of plots.  \n",
    "\n",
    "Below are five example of plots that can be plotted using the pyplots:\n",
    "\n",
    "__Line Plot__\n",
    "\n",
    "A line plot is a graph that displays data as a series of points connected by straight lines. It is commonly used for visualizing time series data or data that changes over a continuous range.\n",
    "\n",
    "__Scatter Plot__ \n",
    "\n",
    "A scatter plot is a graph that displays the relationship between two variables by plotting data as a collection of points. It is commonly used for visualizing the correlation between two variables.\n",
    "\n",
    "__Bar Plot__\n",
    "\n",
    "A bar plot is a graph that displays data as a series of rectangular bars. It is commonly used for comparing the values of different categories.\n",
    "\n",
    "__Histogram__\n",
    "\n",
    "A histogram is a graph that displays the distribution of a dataset by dividing it into intervals (bins) and counting the number of values that fall into each bin. It is commonly used for visualizing the frequency distribution of continuous data.\n",
    "\n",
    "__Heatmap__\n",
    "\n",
    "A heatmap is a graphical representation of data in which the values of a matrix are represented as colors. It is commonly used for visualizing the correlation between two or more variables."
   ]
  },
  {
   "cell_type": "markdown",
   "id": "b13d9c21",
   "metadata": {},
   "source": [
    "### Question 2\n",
    "Q2: What is a scatter plot? Use the following code to generate data for x and y. Using this generated data\n",
    "plot a scatter plot.\n",
    "\n",
    "import numpy as np\n",
    "np.random.seed(3)\n",
    "x = 3 + np.random.normal(0, 2, 50)\n",
    "y = 3 + np.random.normal(0, 2, len(x))\n",
    "\n",
    "Note: Also add title, xlabel, and ylabel to the plot.\n",
    "\n",
    "Answer:\n",
    "\n",
    "__Scatter Plot__\n",
    "\n",
    "A scatter plot is a graph that displays the relationship between two variables by plotting data as a collection of points. It is commonly used for visualizing the correlation between two variables.\n",
    "\n"
   ]
  },
  {
   "cell_type": "code",
   "execution_count": 1,
   "id": "6ab89fea",
   "metadata": {},
   "outputs": [],
   "source": [
    "### libraries needed\n",
    "import numpy as np\n",
    "\n",
    "np.random.seed(3) ### to keep the randomisation constant\n",
    "x = 3 + np.random.normal(0, 2, 50)\n",
    "y = 3 + np.random.normal(0, 2, len(x))"
   ]
  },
  {
   "cell_type": "code",
   "execution_count": 2,
   "id": "b204bc28",
   "metadata": {},
   "outputs": [
    {
     "data": {
      "text/plain": [
       "array([ 6.57725695,  3.8730197 ,  3.19299494, -0.72698541,  2.44522359,\n",
       "        2.29048204,  2.83451704,  1.74599865,  2.91236366,  2.04556394,\n",
       "        0.37227049,  4.76924476,  4.76263608,  6.41914613,  3.10006728,\n",
       "        2.19064517,  1.9092801 , -0.09295463,  4.96473487,  0.79786474,\n",
       "        0.62990695,  2.5887002 ,  5.97229671,  3.47343253,  0.95242972,\n",
       "        1.5740136 ,  4.25048993,  2.67897327,  1.4623273 ,  2.53993856,\n",
       "        4.49011253,  6.95222157,  0.51175334,  1.74716618,  1.39246781,\n",
       "       -1.83816635,  1.15241596,  0.95224848,  5.24795592,  2.73617153,\n",
       "       -0.24657089,  4.2933509 ,  2.28745848, -0.48628207,  1.80670072,\n",
       "        1.82281124,  1.2522354 ,  3.05942763, -1.49651554,  2.46447627])"
      ]
     },
     "execution_count": 2,
     "metadata": {},
     "output_type": "execute_result"
    }
   ],
   "source": [
    "x"
   ]
  },
  {
   "cell_type": "code",
   "execution_count": 3,
   "id": "f17debfa",
   "metadata": {},
   "outputs": [
    {
     "data": {
      "text/plain": [
       "array([ 5.02636688,  4.70559568,  5.216375  ,  5.23878131,  5.97508626,\n",
       "        0.76339863,  4.69166681, -0.72177906,  1.79422979, -0.82894409,\n",
       "        5.09629502,  5.66747564,  2.60517064,  6.54929006,  1.65054498,\n",
       "        3.30123373,  3.30589141,  0.87160945,  3.87589322,  6.87795692,\n",
       "        0.95013825,  4.79867689,  2.6909863 ,  6.53925461,  3.9675767 ,\n",
       "        4.3524328 ,  4.28632656,  3.49817341,  0.20847299,  5.78332582,\n",
       "        0.25866197,  3.47712638,  4.22815418,  1.32417545,  3.29012643,\n",
       "        5.33576457,  2.95179106,  1.22268516, -2.8314755 ,  1.05631899,\n",
       "        1.81784252,  1.96716526,  1.08000764,  3.75459047,  1.85058316,\n",
       "        2.78109133,  4.3581432 ,  1.28912566,  2.39958785,  7.31629868])"
      ]
     },
     "execution_count": 3,
     "metadata": {},
     "output_type": "execute_result"
    }
   ],
   "source": [
    "y"
   ]
  },
  {
   "cell_type": "code",
   "execution_count": 12,
   "id": "44dc47cc",
   "metadata": {},
   "outputs": [
    {
     "data": {
      "text/plain": [
       "Text(0, 0.5, 'label for Y')"
      ]
     },
     "execution_count": 12,
     "metadata": {},
     "output_type": "execute_result"
    },
    {
     "data": {
      "image/png": "[encoded data removed]",
      "text/plain": [
       "<Figure size 576x288 with 1 Axes>"
      ]
     },
     "metadata": {
      "needs_background": "light"
     },
     "output_type": "display_data"
    }
   ],
   "source": [
    "## plot graph\n",
    "import matplotlib.pyplot as plt\n",
    "\n",
    "plt.figure(figsize = (8,4))\n",
    "plt.scatter(x,y)\n",
    "plt.title(\"Scatter plot of X and Y\", loc = \"left\")\n",
    "plt.xlabel(\"label for X\")\n",
    "plt.ylabel(\"label for Y\")"
   ]
  },
  {
   "cell_type": "markdown",
   "id": "56d4a4fa",
   "metadata": {},
   "source": [
    "### Question 3\n",
    "Q3: Why is the subplot() function used? Draw four line plots using the subplot() function.\n",
    "\n",
    "Use the following data:\n",
    "\n",
    "import numpy as np\n",
    "For line 1: x = np.array([0, 1, 2, 3, 4, 5]) and y = np.array([0, 100, 200, 300, 400, 500])\n",
    "For line 2: x = np.array([0, 1, 2, 3, 4, 5]) and y = np.array([50, 20, 40, 20, 60, 70])\n",
    "For line 3: x = np.array([0, 1, 2, 3, 4, 5]) and y = np.array([10, 20, 30, 40, 50, 60])\n",
    "For line 4: x = np.array([0, 1, 2, 3, 4, 5]) and y = np.array([200, 350, 250, 550, 450, 150])\n",
    "\n",
    "Answer:\n",
    "subplot() function is use to draw multiple plots in one figure.This function take three arguments that describes the layout of the figure and the layout template group into row, column and index of the plot eg. subplot(1,2,1) -- mean\n"
   ]
  },
  {
   "cell_type": "code",
   "execution_count": 35,
   "id": "01abe07e",
   "metadata": {},
   "outputs": [
    {
     "data": {
      "image/png": "[encoded data removed]",
      "text/plain": [
       "<Figure size 432x288 with 4 Axes>"
      ]
     },
     "metadata": {
      "needs_background": "light"
     },
     "output_type": "display_data"
    }
   ],
   "source": [
    "import numpy as np\n",
    "import matplotlib.pyplot as plt\n",
    "\n",
    "\n",
    "### First plot\n",
    "x = np.array([0, 1, 2, 3, 4, 5]) \n",
    "y = np.array([0, 100, 200, 300, 400, 500])\n",
    "\n",
    "plt.subplot(2,2,1)\n",
    "plt.plot(x,y)\n",
    "\n",
    "### Second plot\n",
    "x = np.array([0, 1, 2, 3, 4, 5]) \n",
    "y = np.array([50, 20, 40, 20, 60, 70])\n",
    "\n",
    "plt.subplot(2,2,2)\n",
    "plt.plot(x,y)\n",
    "\n",
    "### Third plot\n",
    "x = np.array([0, 1, 2, 3, 4, 5])\n",
    "y = np.array([10, 20, 30, 40, 50, 60])\n",
    "\n",
    "plt.subplot(2,2,3)\n",
    "plt.plot(x,y)\n",
    "\n",
    "### Fourth plot\n",
    "x = np.array([0, 1, 2, 3, 4, 5]) \n",
    "y = np.array([200, 350, 250, 550, 450, 150])\n",
    "\n",
    "plt.subplot(2,2,4)\n",
    "plt.plot(x,y)\n",
    "\n",
    "\n",
    "plt.show()"
   ]
  },
  {
   "cell_type": "markdown",
   "id": "1e269042",
   "metadata": {},
   "source": [
    "### Question 4\n",
    "Q4: What is a bar plot? Why is it used? Using the following data plot a bar plot and a horizontal bar plot.\n",
    "\n",
    "A barplot (or barchart) is useed to shows the relationship between a numeric and a categoric variable. Thus, it is one of the most common types of graphic."
   ]
  },
  {
   "cell_type": "code",
   "execution_count": 37,
   "id": "6567d381",
   "metadata": {},
   "outputs": [],
   "source": [
    "import numpy as np    ## libraries to be used\n",
    "\n",
    "company = np.array([\"Apple\", \"Microsoft\", \"Google\", \"AMD\"])\n",
    "profit = np.array([3000, 8000, 1000, 10000])\n"
   ]
  },
  {
   "cell_type": "code",
   "execution_count": 54,
   "id": "24bf67ff",
   "metadata": {},
   "outputs": [
    {
     "data": {
      "image/png": "[encoded data removed]",
      "text/plain": [
       "<Figure size 432x288 with 1 Axes>"
      ]
     },
     "metadata": {
      "needs_background": "light"
     },
     "output_type": "display_data"
    }
   ],
   "source": [
    "import matplotlib.pyplot as plt\n",
    "\n",
    "## Normal Bar\n",
    "plt.bar(company, profit, color = \"green\", alpha=.9)\n",
    "plt.xlabel(\"Company\")\n",
    "plt.ylabel(\"Profit\")\n",
    "plt.title(\"Bar Plot\")\n",
    "plt.show()\n"
   ]
  },
  {
   "cell_type": "code",
   "execution_count": 55,
   "id": "47dfd9fc",
   "metadata": {},
   "outputs": [
    {
     "data": {
      "image/png": "[encoded data removed]",
      "text/plain": [
       "<Figure size 576x576 with 1 Axes>"
      ]
     },
     "metadata": {
      "needs_background": "light"
     },
     "output_type": "display_data"
    }
   ],
   "source": [
    "## Horizontal Bar\n",
    "plt.figure(figsize = (8,8))\n",
    "plt.subplot(2,1,2)\n",
    "plt.barh(company, profit, color = \"red\", alpha=.9)\n",
    "plt.xlabel(\"Company\")\n",
    "plt.ylabel(\"Profit\")\n",
    "plt.title(\"Bar Plot\")\n",
    "\n",
    "plt.show()"
   ]
  },
  {
   "cell_type": "markdown",
   "id": "e91823e0",
   "metadata": {},
   "source": [
    "### Question 5\n",
    "Q5: What is a box plot? Why is it used? Using the following data plot a box plot.\n",
    "\n",
    "box1 = np.random.normal(100, 10, 200)\n",
    "box2 = np.random.normal(90, 20, 200)\n",
    "\n",
    "A box plot or boxplot is a method for graphically demonstrating the locality, spread and skewness groups of numerical data through their quartiles."
   ]
  },
  {
   "cell_type": "code",
   "execution_count": 56,
   "id": "8b686dfe",
   "metadata": {},
   "outputs": [
    {
     "data": {
      "image/png": "[encoded data removed]",
      "text/plain": [
       "<Figure size 720x504 with 1 Axes>"
      ]
     },
     "metadata": {
      "needs_background": "light"
     },
     "output_type": "display_data"
    }
   ],
   "source": [
    "import numpy as np\n",
    "import matplotlib.pyplot as plt\n",
    "box1 = np.random.normal(100, 10, 200)\n",
    "box2 = np.random.normal(90, 20, 200)\n",
    "dataset = [box1, box2]\n",
    "\n",
    "figure = plt.figure(figsize =(10, 7))  \n",
    "ax = figure.add_axes([0, 0, 1, 1])  \n",
    "bp = ax.boxplot(dataset)  \n",
    "plt.show()"
   ]
  },
  {
   "cell_type": "markdown",
   "id": "2e83a39d",
   "metadata": {},
   "source": [
    "  ### The End"
   ]
  }
 ],
 "metadata": {
  "kernelspec": {
   "display_name": "Python 3 (ipykernel)",
   "language": "python",
   "name": "python3"
  },
  "language_info": {
   "codemirror_mode": {
    "name": "ipython",
    "version": 3
   },
   "file_extension": ".py",
   "mimetype": "text/x-python",
   "name": "python",
   "nbconvert_exporter": "python",
   "pygments_lexer": "ipython3",
   "version": "3.9.12"
  }
 },
 "nbformat": 4,
 "nbformat_minor": 5
}
